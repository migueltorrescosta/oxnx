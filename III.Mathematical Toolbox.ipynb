{
 "cells": [
  {
   "cell_type": "markdown",
   "metadata": {},
   "source": [
    "# All imports"
   ]
  },
  {
   "cell_type": "code",
   "execution_count": 1,
   "metadata": {},
   "outputs": [],
   "source": [
    "import numpy as np\n",
    "import matplotlib.pyplot as plt\n",
    "import math\n",
    "from scipy.stats import norm # Gaussian i.e. Normal distribution"
   ]
  },
  {
   "cell_type": "markdown",
   "metadata": {},
   "source": [
    "# III.1"
   ]
  },
  {
   "cell_type": "code",
   "execution_count": 2,
   "metadata": {},
   "outputs": [],
   "source": [
    "def bernoulli_mean(p):\n",
    "    return p\n",
    "\n",
    "def bernoulli_variance(p):\n",
    "    return p*(1-p)"
   ]
  },
  {
   "cell_type": "markdown",
   "metadata": {},
   "source": [
    "# III.4"
   ]
  },
  {
   "cell_type": "code",
   "execution_count": 3,
   "metadata": {},
   "outputs": [],
   "source": [
    "def random_walk_sample(samples, walk_length):\n",
    "    walks = np.random.randint(0,2,[samples,walk_length])*2-1 # value 1 is a right step, -1 is a left step. \n",
    "    final_step = [sum(x) for x in walks]\n",
    "    return final_step"
   ]
  },
  {
   "cell_type": "code",
   "execution_count": 4,
   "metadata": {},
   "outputs": [],
   "source": [
    "def plot_random_walk(samples, walk_length):\n",
    "    final_step = random_walk_sample(samples=samples,walk_length=walk_length)\n",
    "    plt.hist(final_step, bins=np.linspace(-walk_length,walk_length,walk_length))"
   ]
  },
  {
   "cell_type": "code",
   "execution_count": 5,
   "metadata": {},
   "outputs": [],
   "source": [
    "def plot_gaussian(walk_length):\n",
    "    x = np.linspace(-walk_length,walk_length,walk_length+1)\n",
    "    y = [norm.pdf(v, scale=math.sqrt(walk_length)) for v in x]\n",
    "    plt.bar(x,y, width = 2)"
   ]
  },
  {
   "cell_type": "code",
   "execution_count": 6,
   "metadata": {},
   "outputs": [],
   "source": [
    "samples = 10000\n",
    "walk_length = 20"
   ]
  },
  {
   "cell_type": "code",
   "execution_count": 7,
   "metadata": {},
   "outputs": [
    {
     "data": {
      "image/png": "[encoded data removed]",
      "text/plain": [
       "<matplotlib.figure.Figure at 0x7f87f015d7f0>"
      ]
     },
     "metadata": {},
     "output_type": "display_data"
    }
   ],
   "source": [
    "plot_random_walk(samples=samples,walk_length=walk_length)"
   ]
  },
  {
   "cell_type": "code",
   "execution_count": 8,
   "metadata": {},
   "outputs": [
    {
     "data": {
      "image/png": "[encoded data removed]",
      "text/plain": [
       "<matplotlib.figure.Figure at 0x7f87f016ab00>"
      ]
     },
     "metadata": {},
     "output_type": "display_data"
    }
   ],
   "source": [
    "plot_gaussian(walk_length=walk_length)"
   ]
  },
  {
   "cell_type": "markdown",
   "metadata": {},
   "source": [
    "### Conclusions"
   ]
  },
  {
   "cell_type": "markdown",
   "metadata": {},
   "source": [
    "The 2 graphs above are very similar, so indeed the Gaussian profile is a good approximation to a Random walk. For a large enough set of samples and random_walks.\n",
    "\n",
    "**Metric suggestion:** Distance in L2 space between observations and the Guassian distribution."
   ]
  },
  {
   "cell_type": "markdown",
   "metadata": {},
   "source": [
    "# III.7"
   ]
  },
  {
   "cell_type": "code",
   "execution_count": 9,
   "metadata": {},
   "outputs": [],
   "source": [
    "def max_eigenvalue_approximation(A,n):\n",
    "    B = A\n",
    "    for x in range(n): # In the end B = A^(32^n) normalized\n",
    "        B = np.linalg.matrix_power(B,2**3) # B = A^32\n",
    "        B = np.divide(B,np.linalg.norm(B)) # Normalizes B\n",
    "    x = np.random.rand(len(A)) # Generates random A\n",
    "    x = np.matmul(B,x) # Multiplies x by B, i.e. multiplies x by A 2**32 times\n",
    "    x = np.divide(x,np.linalg.norm(x)) # Normalizes x\n",
    "    x = np.matmul(A,x) # Calculates Ax\n",
    "    eigenvalue = np.linalg.norm(x)\n",
    "    print(\"Largest Eigenvalue: \" + str(eigenvalue))\n",
    "    return eigenvalue # This value approximates the max eigenvalue from below"
   ]
  },
  {
   "cell_type": "code",
   "execution_count": 10,
   "metadata": {},
   "outputs": [
    {
     "name": "stdout",
     "output_type": "stream",
     "text": [
      "Largest Eigenvalue: 2.0\n"
     ]
    },
    {
     "data": {
      "text/plain": [
       "2.0"
      ]
     },
     "execution_count": 10,
     "metadata": {},
     "output_type": "execute_result"
    }
   ],
   "source": [
    "max_eigenvalue_approximation([[1,0],[1,2]],2)"
   ]
  },
  {
   "cell_type": "markdown",
   "metadata": {},
   "source": [
    "# III.8"
   ]
  },
  {
   "cell_type": "code",
   "execution_count": 12,
   "metadata": {},
   "outputs": [],
   "source": [
    "def return_eigenvalues(A):\n",
    "    return np.linalg.eigvals(A)"
   ]
  },
  {
   "cell_type": "code",
   "execution_count": 13,
   "metadata": {},
   "outputs": [],
   "source": [
    "def generate_random_symmetric_bernoulli_matrix(n):\n",
    "    A = np.random.randint(0,2,[n,n]) # Generates a random (non symmetric) bernoulli matrix\n",
    "    for i in range(n):\n",
    "        for j in range(i):\n",
    "            value = A[i][j]^A[j][i] # Xors the 2 symetric entries so that value is uniform on {0,1}, i.e. the probabilities remain correct.\n",
    "            A[i][j] = value\n",
    "            A[j][i] = value\n",
    "    return A # Returns the new"
   ]
  },
  {
   "cell_type": "code",
   "execution_count": 14,
   "metadata": {},
   "outputs": [],
   "source": [
    "def iii8_answer():\n",
    "    A = generate_random_symmetric_bernoulli_matrix(1000)\n",
    "    return return_eigenvalues(A)"
   ]
  },
  {
   "cell_type": "code",
   "execution_count": 15,
   "metadata": {},
   "outputs": [],
   "source": [
    "# n is the number of mattrices being run.\n",
    "# Higher n means waiting for longer, but with more statistical accuracy\n",
    "def eigenvalue_analysis(n):\n",
    "    observed = [iii8_answer() for _ in range(n)]\n",
    "    observed = np.concatenate(observed)\n",
    "    plt.hist(observed,bins=np.linspace(-35,35,71))\n",
    "    return observed"
   ]
  },
  {
   "cell_type": "code",
   "execution_count": 16,
   "metadata": {},
   "outputs": [
    {
     "data": {
      "image/png": "[encoded data removed]",
      "text/plain": [
       "<matplotlib.figure.Figure at 0x7f87f00231d0>"
      ]
     },
     "metadata": {},
     "output_type": "display_data"
    }
   ],
   "source": [
    "observed = eigenvalue_analysis(1000)"
   ]
  },
  {
   "cell_type": "markdown",
   "metadata": {},
   "source": [
    "The distribution seems to follow a half ellipse with x-radius of sqrt(1000). The sqrt(1000) limit makes sense since that's the maximum possible eigenvalue for a 1000-sided matrix of zeroes and ones."
   ]
  },
  {
   "cell_type": "code",
   "execution_count": null,
   "metadata": {},
   "outputs": [],
   "source": []
  }
 ],
 "metadata": {
  "kernelspec": {
   "display_name": "Python 3",
   "language": "python",
   "name": "python3"
  },
  "language_info": {
   "codemirror_mode": {
    "name": "ipython",
    "version": 3
   },
   "file_extension": ".py",
   "mimetype": "text/x-python",
   "name": "python",
   "nbconvert_exporter": "python",
   "pygments_lexer": "ipython3",
   "version": "3.6.3"
  }
 },
 "nbformat": 4,
 "nbformat_minor": 2
}
