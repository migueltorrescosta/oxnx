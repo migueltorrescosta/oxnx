{
 "cells": [
  {
   "cell_type": "markdown",
   "metadata": {},
   "source": [
    "# All imports"
   ]
  },
  {
   "cell_type": "code",
   "execution_count": 1,
   "metadata": {},
   "outputs": [],
   "source": [
    "from collections import Counter\n",
    "import pandas as pd\n",
    "import numpy as np\n",
    "import matplotlib.pyplot as plt\n",
    "import math\n",
    "from scipy.stats import norm # Gaussian i.e. Normal distribution"
   ]
  },
  {
   "cell_type": "markdown",
   "metadata": {},
   "source": [
    "# III.1"
   ]
  },
  {
   "cell_type": "code",
   "execution_count": 2,
   "metadata": {},
   "outputs": [],
   "source": [
    "def bernoulli_mean(p):\n",
    "    return p\n",
    "\n",
    "def bernoulli_variance(p):\n",
    "    return p*(1-p)"
   ]
  },
  {
   "cell_type": "markdown",
   "metadata": {},
   "source": [
    "# III.3"
   ]
  },
  {
   "cell_type": "code",
   "execution_count": 3,
   "metadata": {},
   "outputs": [],
   "source": [
    "def inter_interval_distribution(n):\n",
    "    x = sorted(np.random.rand(n))\n",
    "    y = list(zip(x[1:],x[:-1]))\n",
    "    z = [t[0]-t[1] for t in y]\n",
    "    plt.hist(z, bins=int(math.sqrt(n/10)), normed=1, histtype='step')\n",
    "    return z"
   ]
  },
  {
   "cell_type": "code",
   "execution_count": 4,
   "metadata": {
    "scrolled": false
   },
   "outputs": [
    {
     "data": {
      "image/png": "[encoded data removed]",
      "text/plain": [
       "<matplotlib.figure.Figure at 0x7f679477b320>"
      ]
     },
     "metadata": {},
     "output_type": "display_data"
    }
   ],
   "source": [
    "z = inter_interval_distribution(10000000)"
   ]
  },
  {
   "cell_type": "code",
   "execution_count": null,
   "metadata": {},
   "outputs": [],
   "source": []
  },
  {
   "cell_type": "markdown",
   "metadata": {},
   "source": [
    "# III.4"
   ]
  },
  {
   "cell_type": "code",
   "execution_count": 5,
   "metadata": {},
   "outputs": [],
   "source": [
    "def random_walk_sample(samples, walk_length):\n",
    "    walks = np.random.randint(0,2,[samples,walk_length])*2-1 # value 1 is a right step, -1 is a left step. \n",
    "    final_step = [sum(x) for x in walks]\n",
    "    return final_step"
   ]
  },
  {
   "cell_type": "code",
   "execution_count": 6,
   "metadata": {},
   "outputs": [],
   "source": [
    "def plot_random_walk(samples, walk_length):\n",
    "    final_step = random_walk_sample(samples=samples,walk_length=walk_length)\n",
    "    plt.hist(final_step, bins=np.linspace(-walk_length,walk_length,walk_length))"
   ]
  },
  {
   "cell_type": "code",
   "execution_count": 7,
   "metadata": {},
   "outputs": [],
   "source": [
    "def plot_gaussian(walk_length):\n",
    "    x = np.linspace(-walk_length,walk_length,walk_length+1)\n",
    "    y = [norm.pdf(v, scale=math.sqrt(walk_length)) for v in x]\n",
    "    plt.bar(x,y, width = 2)"
   ]
  },
  {
   "cell_type": "code",
   "execution_count": 8,
   "metadata": {},
   "outputs": [],
   "source": [
    "samples = 10000\n",
    "walk_length = 20"
   ]
  },
  {
   "cell_type": "code",
   "execution_count": 9,
   "metadata": {},
   "outputs": [
    {
     "data": {
      "image/png": "[encoded data removed]",
      "text/plain": [
       "<matplotlib.figure.Figure at 0x7f6748cc62e8>"
      ]
     },
     "metadata": {},
     "output_type": "display_data"
    }
   ],
   "source": [
    "plot_random_walk(samples=samples,walk_length=walk_length)"
   ]
  },
  {
   "cell_type": "code",
   "execution_count": 10,
   "metadata": {},
   "outputs": [
    {
     "data": {
      "image/png": "[encoded data removed]",
      "text/plain": [
       "<matplotlib.figure.Figure at 0x7f6748ccdba8>"
      ]
     },
     "metadata": {},
     "output_type": "display_data"
    }
   ],
   "source": [
    "plot_gaussian(walk_length=walk_length)"
   ]
  },
  {
   "cell_type": "markdown",
   "metadata": {},
   "source": [
    "### Conclusions"
   ]
  },
  {
   "cell_type": "markdown",
   "metadata": {},
   "source": [
    "The 2 graphs above are very similar, so indeed the Gaussian profile is a good approximation to a Random walk. For a large enough set of samples and random_walks.\n",
    "\n",
    "**Metric suggestion:** L2 distance between observations' cumulative distribution function and the Guassian distribution."
   ]
  },
  {
   "cell_type": "markdown",
   "metadata": {},
   "source": [
    "# III.5"
   ]
  },
  {
   "cell_type": "markdown",
   "metadata": {},
   "source": [
    "Importing the text as a single string"
   ]
  },
  {
   "cell_type": "code",
   "execution_count": 11,
   "metadata": {},
   "outputs": [],
   "source": [
    "# You can change quran.txt to any txt file you want to try, and then run all the cells below\n",
    "f = open('datasets/quran.txt', 'r')\n",
    "text = ''.join(f.readlines())"
   ]
  },
  {
   "cell_type": "markdown",
   "metadata": {},
   "source": [
    "Making a word count:"
   ]
  },
  {
   "cell_type": "code",
   "execution_count": 12,
   "metadata": {},
   "outputs": [],
   "source": [
    "text = text.lower()\n",
    "for stringy in [\"\\n\",\",\",\".\",\"'\",\":\",\"?\",\";\",\"!\"]:\n",
    "    text = text.replace(stringy, \"\")\n",
    "words = text.split(\" \")\n",
    "frequency_count = Counter(words)\n",
    "d = dict(frequency_count)"
   ]
  },
  {
   "cell_type": "code",
   "execution_count": 13,
   "metadata": {},
   "outputs": [
    {
     "data": {
      "text/html": [
       "<div>\n",
       "<style scoped>\n",
       "    .dataframe tbody tr th:only-of-type {\n",
       "        vertical-align: middle;\n",
       "    }\n",
       "\n",
       "    .dataframe tbody tr th {\n",
       "        vertical-align: top;\n",
       "    }\n",
       "\n",
       "    .dataframe thead th {\n",
       "        text-align: right;\n",
       "    }\n",
       "</style>\n",
       "<table border=\"1\" class=\"dataframe\">\n",
       "  <thead>\n",
       "    <tr style=\"text-align: right;\">\n",
       "      <th></th>\n",
       "      <th>Word</th>\n",
       "      <th>Quran_Count</th>\n",
       "    </tr>\n",
       "  </thead>\n",
       "  <tbody>\n",
       "    <tr>\n",
       "      <th>0</th>\n",
       "      <td>the</td>\n",
       "      <td>8725</td>\n",
       "    </tr>\n",
       "    <tr>\n",
       "      <th>1</th>\n",
       "      <td>and</td>\n",
       "      <td>7667</td>\n",
       "    </tr>\n",
       "    <tr>\n",
       "      <th>2</th>\n",
       "      <td>of</td>\n",
       "      <td>4466</td>\n",
       "    </tr>\n",
       "    <tr>\n",
       "      <th>3</th>\n",
       "      <td>to</td>\n",
       "      <td>3641</td>\n",
       "    </tr>\n",
       "    <tr>\n",
       "      <th>4</th>\n",
       "      <td>you</td>\n",
       "      <td>3350</td>\n",
       "    </tr>\n",
       "  </tbody>\n",
       "</table>\n",
       "</div>"
      ],
      "text/plain": [
       "  Word  Quran_Count\n",
       "0  the         8725\n",
       "1  and         7667\n",
       "2   of         4466\n",
       "3   to         3641\n",
       "4  you         3350"
      ]
     },
     "execution_count": 13,
     "metadata": {},
     "output_type": "execute_result"
    }
   ],
   "source": [
    "table = pd.DataFrame(list(d.items()))\n",
    "table.columns=([\"Word\",\"Quran_Count\"])\n",
    "table.sort_values(by=\"Quran_Count\",inplace=True,ascending=False)\n",
    "table.reset_index(drop=True,inplace=True)\n",
    "table.head(5)"
   ]
  },
  {
   "cell_type": "markdown",
   "metadata": {},
   "source": [
    "Getting the frequency of words in the English dictionary:"
   ]
  },
  {
   "cell_type": "code",
   "execution_count": 14,
   "metadata": {},
   "outputs": [],
   "source": [
    "f = open('datasets/english_word_count.txt', 'r')\n",
    "text = f.readlines()\n",
    "def process_line(line):\n",
    "    line = line.replace(\"\\n\", \"\")\n",
    "    return line.split('\\t')\n",
    "frequencies = [process_line(line) for line in text]\n",
    "frequencies = {x[0]:int(x[1]) for x in frequencies}"
   ]
  },
  {
   "cell_type": "markdown",
   "metadata": {},
   "source": [
    "Merging the tables:"
   ]
  },
  {
   "cell_type": "code",
   "execution_count": 15,
   "metadata": {},
   "outputs": [],
   "source": [
    "table['English_word'] = table[\"Word\"].map(frequencies)"
   ]
  },
  {
   "cell_type": "code",
   "execution_count": 16,
   "metadata": {},
   "outputs": [
    {
     "data": {
      "text/html": [
       "<div>\n",
       "<style scoped>\n",
       "    .dataframe tbody tr th:only-of-type {\n",
       "        vertical-align: middle;\n",
       "    }\n",
       "\n",
       "    .dataframe tbody tr th {\n",
       "        vertical-align: top;\n",
       "    }\n",
       "\n",
       "    .dataframe thead th {\n",
       "        text-align: right;\n",
       "    }\n",
       "</style>\n",
       "<table border=\"1\" class=\"dataframe\">\n",
       "  <thead>\n",
       "    <tr style=\"text-align: right;\">\n",
       "      <th></th>\n",
       "      <th>Word</th>\n",
       "      <th>Quran_Count</th>\n",
       "      <th>English_word</th>\n",
       "    </tr>\n",
       "  </thead>\n",
       "  <tbody>\n",
       "    <tr>\n",
       "      <th>0</th>\n",
       "      <td>the</td>\n",
       "      <td>8725</td>\n",
       "      <td>2.313585e+10</td>\n",
       "    </tr>\n",
       "    <tr>\n",
       "      <th>1</th>\n",
       "      <td>and</td>\n",
       "      <td>7667</td>\n",
       "      <td>1.299764e+10</td>\n",
       "    </tr>\n",
       "    <tr>\n",
       "      <th>2</th>\n",
       "      <td>of</td>\n",
       "      <td>4466</td>\n",
       "      <td>1.315194e+10</td>\n",
       "    </tr>\n",
       "    <tr>\n",
       "      <th>3</th>\n",
       "      <td>to</td>\n",
       "      <td>3641</td>\n",
       "      <td>1.213698e+10</td>\n",
       "    </tr>\n",
       "    <tr>\n",
       "      <th>4</th>\n",
       "      <td>you</td>\n",
       "      <td>3350</td>\n",
       "      <td>2.996181e+09</td>\n",
       "    </tr>\n",
       "  </tbody>\n",
       "</table>\n",
       "</div>"
      ],
      "text/plain": [
       "  Word  Quran_Count  English_word\n",
       "0  the         8725  2.313585e+10\n",
       "1  and         7667  1.299764e+10\n",
       "2   of         4466  1.315194e+10\n",
       "3   to         3641  1.213698e+10\n",
       "4  you         3350  2.996181e+09"
      ]
     },
     "execution_count": 16,
     "metadata": {},
     "output_type": "execute_result"
    }
   ],
   "source": [
    "table.head(5)"
   ]
  },
  {
   "cell_type": "markdown",
   "metadata": {},
   "source": [
    "Sorting the table by the ratio of frequencies, where ratio is defined as (up to a scalar):\n",
    "**Ratio:** Frequency of a word in the text / Frequency of word in common English"
   ]
  },
  {
   "cell_type": "code",
   "execution_count": 17,
   "metadata": {
    "scrolled": false
   },
   "outputs": [],
   "source": [
    "table['Ratio'] = np.divide(table['Quran_Count'],table['English_word'])*(10**6)\n",
    "table.sort_values(by=\"Ratio\",inplace=True,ascending=False)\n",
    "table.reset_index(drop=True,inplace=True)"
   ]
  },
  {
   "cell_type": "code",
   "execution_count": 18,
   "metadata": {},
   "outputs": [
    {
     "data": {
      "text/html": [
       "<div>\n",
       "<style scoped>\n",
       "    .dataframe tbody tr th:only-of-type {\n",
       "        vertical-align: middle;\n",
       "    }\n",
       "\n",
       "    .dataframe tbody tr th {\n",
       "        vertical-align: top;\n",
       "    }\n",
       "\n",
       "    .dataframe thead th {\n",
       "        text-align: right;\n",
       "    }\n",
       "</style>\n",
       "<table border=\"1\" class=\"dataframe\">\n",
       "  <thead>\n",
       "    <tr style=\"text-align: right;\">\n",
       "      <th></th>\n",
       "      <th>0</th>\n",
       "      <th>1</th>\n",
       "      <th>2</th>\n",
       "      <th>3</th>\n",
       "      <th>4</th>\n",
       "      <th>5</th>\n",
       "      <th>6</th>\n",
       "      <th>7</th>\n",
       "      <th>8</th>\n",
       "      <th>9</th>\n",
       "      <th>10</th>\n",
       "      <th>11</th>\n",
       "      <th>12</th>\n",
       "      <th>13</th>\n",
       "      <th>14</th>\n",
       "      <th>15</th>\n",
       "      <th>16</th>\n",
       "      <th>17</th>\n",
       "      <th>18</th>\n",
       "      <th>19</th>\n",
       "    </tr>\n",
       "  </thead>\n",
       "  <tbody>\n",
       "    <tr>\n",
       "      <th>Word</th>\n",
       "      <td>chastisement</td>\n",
       "      <td>evildoers</td>\n",
       "      <td>tiding</td>\n",
       "      <td>disbelieves</td>\n",
       "      <td>haply</td>\n",
       "      <td>gehenna</td>\n",
       "      <td>unbelievers</td>\n",
       "      <td>whoso</td>\n",
       "      <td>recompensed</td>\n",
       "      <td>unthankful</td>\n",
       "      <td>similitudes</td>\n",
       "      <td>disbelieved</td>\n",
       "      <td>abased</td>\n",
       "      <td>tarried</td>\n",
       "      <td>niggardly</td>\n",
       "      <td>disbelieve</td>\n",
       "      <td>idolaters</td>\n",
       "      <td>couldst</td>\n",
       "      <td>whensoever</td>\n",
       "      <td>smites</td>\n",
       "    </tr>\n",
       "    <tr>\n",
       "      <th>Ratio</th>\n",
       "      <td>2275.3</td>\n",
       "      <td>1313.31</td>\n",
       "      <td>1286.81</td>\n",
       "      <td>1177.39</td>\n",
       "      <td>1100.15</td>\n",
       "      <td>962.464</td>\n",
       "      <td>923.551</td>\n",
       "      <td>884.406</td>\n",
       "      <td>874.92</td>\n",
       "      <td>769.769</td>\n",
       "      <td>757.732</td>\n",
       "      <td>715.237</td>\n",
       "      <td>662.663</td>\n",
       "      <td>616.118</td>\n",
       "      <td>595.593</td>\n",
       "      <td>576.764</td>\n",
       "      <td>548.08</td>\n",
       "      <td>536.813</td>\n",
       "      <td>499.322</td>\n",
       "      <td>459.01</td>\n",
       "    </tr>\n",
       "  </tbody>\n",
       "</table>\n",
       "</div>"
      ],
      "text/plain": [
       "                 0          1        2            3        4        5   \\\n",
       "Word   chastisement  evildoers   tiding  disbelieves    haply  gehenna   \n",
       "Ratio        2275.3    1313.31  1286.81      1177.39  1100.15  962.464   \n",
       "\n",
       "                6        7            8           9            10  \\\n",
       "Word   unbelievers    whoso  recompensed  unthankful  similitudes   \n",
       "Ratio      923.551  884.406       874.92     769.769      757.732   \n",
       "\n",
       "                11       12       13         14          15         16  \\\n",
       "Word   disbelieved   abased  tarried  niggardly  disbelieve  idolaters   \n",
       "Ratio      715.237  662.663  616.118    595.593     576.764     548.08   \n",
       "\n",
       "            17          18      19  \n",
       "Word   couldst  whensoever  smites  \n",
       "Ratio  536.813     499.322  459.01  "
      ]
     },
     "execution_count": 18,
     "metadata": {},
     "output_type": "execute_result"
    }
   ],
   "source": [
    "table[['Word','Ratio']].head(20).T"
   ]
  },
  {
   "cell_type": "markdown",
   "metadata": {},
   "source": [
    "# III.7"
   ]
  },
  {
   "cell_type": "code",
   "execution_count": 19,
   "metadata": {},
   "outputs": [],
   "source": [
    "def max_eigenvalue_approximation(A,n):\n",
    "    B = A\n",
    "    for x in range(n): # In the end B = A^(32^n) normalized\n",
    "        B = np.linalg.matrix_power(B,2**3) # B = A^32\n",
    "        B = np.divide(B,np.linalg.norm(B)) # Normalizes B\n",
    "    x = np.random.rand(len(A)) # Generates random A\n",
    "    x = np.matmul(B,x) # Multiplies x by B, i.e. multiplies x by A 2**32 times\n",
    "    x = np.divide(x,np.linalg.norm(x)) # Normalizes x\n",
    "    x = np.matmul(A,x) # Calculates Ax\n",
    "    eigenvalue = np.linalg.norm(x)\n",
    "    print(\"Largest Eigenvalue: \" + str(eigenvalue))\n",
    "    return eigenvalue # This value approximates the max eigenvalue from below"
   ]
  },
  {
   "cell_type": "code",
   "execution_count": 20,
   "metadata": {},
   "outputs": [
    {
     "name": "stdout",
     "output_type": "stream",
     "text": [
      "Largest Eigenvalue: 2.0\n"
     ]
    },
    {
     "data": {
      "text/plain": [
       "2.0"
      ]
     },
     "execution_count": 20,
     "metadata": {},
     "output_type": "execute_result"
    }
   ],
   "source": [
    "max_eigenvalue_approximation([[1,0],[1,2]],2)"
   ]
  },
  {
   "cell_type": "markdown",
   "metadata": {},
   "source": [
    "# III.8"
   ]
  },
  {
   "cell_type": "code",
   "execution_count": 21,
   "metadata": {},
   "outputs": [],
   "source": [
    "def return_eigenvalues(A):\n",
    "    return np.linalg.eigvals(A)"
   ]
  },
  {
   "cell_type": "code",
   "execution_count": 22,
   "metadata": {},
   "outputs": [],
   "source": [
    "def generate_random_symmetric_bernoulli_matrix(n):\n",
    "    A = np.random.randint(0,2,[n,n]) # Generates a random (non symmetric) bernoulli matrix\n",
    "    for i in range(n):\n",
    "        for j in range(i):\n",
    "            value = A[i][j]^A[j][i] # Xors the 2 symetric entries so that value is uniform on {0,1}, i.e. the probabilities remain correct.\n",
    "            A[i][j] = value\n",
    "            A[j][i] = value\n",
    "    return A # Returns the new"
   ]
  },
  {
   "cell_type": "code",
   "execution_count": 23,
   "metadata": {},
   "outputs": [],
   "source": [
    "def iii8_answer():\n",
    "    A = generate_random_symmetric_bernoulli_matrix(1000)\n",
    "    return return_eigenvalues(A)"
   ]
  },
  {
   "cell_type": "code",
   "execution_count": 24,
   "metadata": {},
   "outputs": [],
   "source": [
    "# n is the number of mattrices being run.\n",
    "# Higher n means waiting for longer, but with more statistical accuracy\n",
    "def eigenvalue_analysis(n):\n",
    "    observed = [iii8_answer() for _ in range(n)]\n",
    "    observed = np.concatenate(observed)\n",
    "    plt.hist(observed,bins=np.linspace(-35,35,71))\n",
    "    return observed"
   ]
  },
  {
   "cell_type": "code",
   "execution_count": 25,
   "metadata": {},
   "outputs": [
    {
     "data": {
      "image/png": "[encoded data removed]",
      "text/plain": [
       "<matplotlib.figure.Figure at 0x7f675aa28358>"
      ]
     },
     "metadata": {},
     "output_type": "display_data"
    }
   ],
   "source": [
    "# This line takes a long time to run. Can you improve it?\n",
    "observed = eigenvalue_analysis(50)"
   ]
  },
  {
   "cell_type": "markdown",
   "metadata": {},
   "source": [
    "The distribution seems to follow a half ellipse with x-radius of sqrt(1000). The sqrt(1000) limit makes sense since that's the maximum possible eigenvalue for a 1000-sided matrix of zeroes and ones."
   ]
  }
 ],
 "metadata": {
  "kernelspec": {
   "display_name": "Python 3",
   "language": "python",
   "name": "python3"
  },
  "language_info": {
   "codemirror_mode": {
    "name": "ipython",
    "version": 3
   },
   "file_extension": ".py",
   "mimetype": "text/x-python",
   "name": "python",
   "nbconvert_exporter": "python",
   "pygments_lexer": "ipython3",
   "version": "3.6.3"
  }
 },
 "nbformat": 4,
 "nbformat_minor": 2
}
